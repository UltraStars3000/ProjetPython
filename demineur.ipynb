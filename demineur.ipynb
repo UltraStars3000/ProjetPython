{
 "cells": [
  {
   "cell_type": "code",
   "execution_count": 1,
   "metadata": {},
   "outputs": [
    {
     "name": "stdout",
     "output_type": "stream",
     "text": [
      "=========[Scoreboard]=========\n",
      "['DJ_Vince [cheateur]', '94', '8x15', '34']\n",
      "['DJ_Vince [cheateur]', '95', '8x15', '34']\n",
      "['DJ_Vince [cheateur]', '22', '8x15', '10']\n",
      "['DJ_Vince [cheateur]', '22', '8x15', '10']\n",
      "['DJ_Vince', '27', '8x15', '10']\n",
      "['DJ_Vince', '7', '8x15', '4']\n",
      "['azerty [cheateur]', '12', '8x15', '4']\n",
      "['edrtyghuj', '10', '8x15', '4']\n",
      "['rtyhj', '10', '8x15', '4']\n",
      "['zertyjk', '22', '8x15', '4']\n",
      "['vince', '7', '8x15', '4']\n",
      "['qfghjk', '7', '8x15', '4']\n",
      "['vince', '17', '8x15', '4']\n",
      "['Youpi!', '9', '8x15', '4']\n",
      "==============================\n",
      "====[Scoreboard  LifeMode]====\n",
      "['DJ_Vince', '1']\n",
      "['DJ_Vince', '4']\n",
      "==============================\n",
      "=========[Scoreboard]=========\n",
      "['DJ_Vince [cheateur]', '94', '8x15', '34']\n",
      "['DJ_Vince [cheateur]', '95', '8x15', '34']\n",
      "['DJ_Vince [cheateur]', '22', '8x15', '10']\n",
      "['DJ_Vince [cheateur]', '22', '8x15', '10']\n",
      "['DJ_Vince', '27', '8x15', '10']\n",
      "['DJ_Vince', '7', '8x15', '4']\n",
      "['azerty [cheateur]', '12', '8x15', '4']\n",
      "['edrtyghuj', '10', '8x15', '4']\n",
      "['rtyhj', '10', '8x15', '4']\n",
      "['zertyjk', '22', '8x15', '4']\n",
      "['vince', '7', '8x15', '4']\n",
      "['qfghjk', '7', '8x15', '4']\n",
      "['vince', '17', '8x15', '4']\n",
      "['Youpi!', '9', '8x15', '4']\n",
      "==============================\n",
      "['0', '0', '8', '15', '1', '3']\n"
     ]
    },
    {
     "data": {
      "text/plain": [
       "<menu.Menu at 0x26cdef8fe08>"
      ]
     },
     "execution_count": 1,
     "metadata": {},
     "output_type": "execute_result"
    }
   ],
   "source": [
    "#=====================import======================\n",
    "from menu import Menu\n",
    "#=================================================\n",
    "\n",
    "#===============Programme Principal===============\n",
    "Menu()\n",
    "#================================================="
   ]
  },
  {
   "cell_type": "code",
   "execution_count": null,
   "metadata": {},
   "outputs": [],
   "source": []
  },
  {
   "cell_type": "code",
   "execution_count": null,
   "metadata": {},
   "outputs": [],
   "source": []
  }
 ],
 "metadata": {
  "kernelspec": {
   "display_name": "Python 3",
   "language": "python",
   "name": "python3"
  },
  "language_info": {
   "codemirror_mode": {
    "name": "ipython",
    "version": 3
   },
   "file_extension": ".py",
   "mimetype": "text/x-python",
   "name": "python",
   "nbconvert_exporter": "python",
   "pygments_lexer": "ipython3",
   "version": "3.7.4"
  }
 },
 "nbformat": 4,
 "nbformat_minor": 2
}
