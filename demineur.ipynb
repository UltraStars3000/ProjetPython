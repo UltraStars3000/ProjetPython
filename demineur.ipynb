{
 "cells": [
  {
   "cell_type": "code",
   "execution_count": 1,
   "metadata": {
    "scrolled": true
   },
   "outputs": [
    {
     "name": "stderr",
     "output_type": "stream",
     "text": [
      "Exception in Tkinter callback\n",
      "Traceback (most recent call last):\n",
      "  File \"C:\\Users\\vince\\Anaconda3\\lib\\tkinter\\__init__.py\", line 1705, in __call__\n",
      "    return self.func(*args)\n",
      "  File \"C:\\Users\\vince\\Desktop\\ProjetPython-master\\ProjetPython-master\\demineur.py\", line 132, in quelBouton\n",
      "    self.manchePerdueLifeMode()\n",
      "  File \"C:\\Users\\vince\\Desktop\\ProjetPython-master\\ProjetPython-master\\demineur.py\", line 260, in manchePerdueLifeMode\n",
      "    self.lifes_victoires.configure(text=\"Victoires : \" + str(self.lifemode_score))\n",
      "  File \"C:\\Users\\vince\\Anaconda3\\lib\\tkinter\\__init__.py\", line 1485, in configure\n",
      "    return self._configure('configure', cnf, kw)\n",
      "  File \"C:\\Users\\vince\\Anaconda3\\lib\\tkinter\\__init__.py\", line 1476, in _configure\n",
      "    self.tk.call(_flatten((self._w, cmd)) + self._options(cnf))\n",
      "_tkinter.TclError: invalid command name \".!label\"\n"
     ]
    },
    {
     "data": {
      "text/plain": [
       "<demineur.Demineur at 0x1880098a408>"
      ]
     },
     "execution_count": 1,
     "metadata": {},
     "output_type": "execute_result"
    }
   ],
   "source": [
    "#=====================import======================\n",
    "from demineur import Demineur\n",
    "#=================================================\n",
    "\n",
    "#===============Programme Principal===============\n",
    "#nombreColonnes : Nombre de colonnes du démineur. (à partir de 1) (par défaut: 5)\n",
    "#nombreLignes : Nombre de lignes du démineur. (à partir de 1) (par défaut: 10)\n",
    "#forcageNombreMines : Force le nombre de mines du démineur (à partir de 0),\n",
    "#                     si mis à None, ce nombre est généré suivant la difficulté. (par défaut: None)\n",
    "#difficulte : Difficulté du démineur (de 1 à 20) (par défaut: 10)\n",
    "#oldSchool : apparance des compteurs du démineur,\n",
    "#            si mise à True, elle sera comme sous le démineur Windows, à l'ancienne. (par défaut)\n",
    "#            si mise à False, elle sera moderne et sobre.\n",
    "#afficheurOldSchoolVisible : visibilité des segments non-éclairés. (par défaut: False)\n",
    "#                            False=non, True=oui\n",
    "#lifeMode : Mode parties infinie avec un nombre de vie de départ. (par défaut: None)\n",
    "#           Si activé, entrer un nombre de vie de départ. (exemple : 3)\n",
    "#mute : Détermine si le son est coupé au démarrage de la partie. (par défaut : False)\n",
    "#       False=non, True=oui\n",
    "#DEBUG : Affiche les messages en console. (par défaut : False)\n",
    "#        False=non, True=oui\n",
    "Demineur(nombreColonnes=5, nombreLignes=10, forcageNombreMines=None, difficulte=2, oldSchool=True, afficheurOldSchoolVisible=True, lifeMode=3, mute=False, DEBUG = False)\n",
    "#================================================="
   ]
  },
  {
   "cell_type": "code",
   "execution_count": null,
   "metadata": {},
   "outputs": [],
   "source": []
  },
  {
   "cell_type": "code",
   "execution_count": null,
   "metadata": {},
   "outputs": [],
   "source": []
  },
  {
   "cell_type": "code",
   "execution_count": null,
   "metadata": {},
   "outputs": [],
   "source": []
  }
 ],
 "metadata": {
  "kernelspec": {
   "display_name": "Python 3",
   "language": "python",
   "name": "python3"
  },
  "language_info": {
   "codemirror_mode": {
    "name": "ipython",
    "version": 3
   },
   "file_extension": ".py",
   "mimetype": "text/x-python",
   "name": "python",
   "nbconvert_exporter": "python",
   "pygments_lexer": "ipython3",
   "version": "3.7.4"
  }
 },
 "nbformat": 4,
 "nbformat_minor": 2
}
